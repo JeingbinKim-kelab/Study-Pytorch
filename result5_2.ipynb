{
  "nbformat": 4,
  "nbformat_minor": 0,
  "metadata": {
    "colab": {
      "name": "result5-2.ipynb",
      "provenance": []
    },
    "kernelspec": {
      "name": "python3",
      "display_name": "Python 3"
    }
  },
  "cells": [
    {
      "cell_type": "code",
      "metadata": {
        "id": "OPTqG6vJeRyf",
        "colab_type": "code",
        "colab": {}
      },
      "source": [
        "import numpy as np\n",
        "import torch\n",
        "import torch.nn as nn\n",
        "import torch.optim as optim\n",
        "import matplotlib.pyplot as plt\n",
        "import sklearn.datasets\n",
        "\n",
        "mnist = sklearn.datasets.fetch_openml('mnist_784', data_home=\"mnist_784\")\n",
        "train_X = torch.tensor(mnist.data[:60000], dtype=torch.float) / 255\n",
        "train_Y = torch.tensor([int(x) for x in mnist.target[:60000]])\n",
        "val_X = torch.tensor(mnist.data[60000:], dtype=torch.float) / 255\n",
        "val_Y = torch.tensor([int(x) for x in mnist.target[60000:]])"
      ],
      "execution_count": 1,
      "outputs": []
    },
    {
      "cell_type": "code",
      "metadata": {
        "id": "nHP0VTExefVn",
        "colab_type": "code",
        "colab": {
          "base_uri": "https://localhost:8080/",
          "height": 240
        },
        "outputId": "ff289a13-9d14-4a1e-d14c-4f56d1b572b8"
      },
      "source": [
        "train_X = train_X.view(len(train_X), -1, 28, 28)\n",
        "val_X = val_X.view(len(val_X), -1, 28, 28)\n",
        "\n",
        "plt.figure()\n",
        "for i in range(10):\n",
        "  plt.subplot(2, 5, i+1)\n",
        "  plt.imshow(train_X[i].view(28, 28), cmap='gray')\n",
        "  plt.title(train_Y[i].numpy())\n",
        "plt.show()"
      ],
      "execution_count": 2,
      "outputs": [
        {
          "output_type": "display_data",
          "data": {
            "image/png": "[encoded data removed]",
            "text/plain": [
              "<Figure size 432x288 with 10 Axes>"
            ]
          },
          "metadata": {
            "tags": [],
            "needs_background": "light"
          }
        }
      ]
    },
    {
      "cell_type": "code",
      "metadata": {
        "id": "Rju8W8UBj7dF",
        "colab_type": "code",
        "colab": {
          "base_uri": "https://localhost:8080/",
          "height": 377
        },
        "outputId": "13712380-c59d-4592-cdf2-9857eb89ddb0"
      },
      "source": [
        "lr = 0.001\n",
        "batch_size = 100\n",
        "epoch = 1\n",
        "\n",
        "class CNN(torch.nn.Module):\n",
        "  def __init__(self):\n",
        "    super(CNN, self).__init__()\n",
        "    self.layer1 = nn.Sequential(\n",
        "        nn.Conv2d(1, 20, kernel_size=(5, 5), stride=1),\n",
        "        nn.BatchNorm2d(20),\n",
        "        nn.ReLU(),\n",
        "        nn.MaxPool2d(kernel_size=(2, 2), stride=2)\n",
        "    )\n",
        "    self.layer2 = nn.Sequential(\n",
        "        nn.Conv2d(20, 50, kernel_size=(5, 5), stride=1),\n",
        "        nn.BatchNorm2d(50),\n",
        "        nn.ReLU(),\n",
        "        nn.MaxPool2d(kernel_size=(2, 2), stride=2)\n",
        "    )\n",
        "    self.input_size = 50*4*4\n",
        "    self.layer3 = nn.Linear(in_features=self.input_size, out_features=50)\n",
        "\n",
        "  def forward(self, x):\n",
        "    out = self.layer1(x)\n",
        "    out = self.layer2(out)\n",
        "    out = torch.flatten(out, start_dim=1)\n",
        "    out = self.layer3(out)\n",
        "    return out\n",
        "\n",
        "model = CNN()\n",
        "loss = nn.CrossEntropyLoss()\n",
        "optimizer = optim.Adam(params=model.parameters(), lr = lr)\n",
        "train_X = train_X.view(batch_size, -1, 28, 28)\n",
        "train_Y = train_Y.view(batch_size, -1)\n",
        "\n",
        "for ep in range(10):\n",
        "  print('epoch : ', ep+1)\n",
        "  ave_cost = 0\n",
        "  for batch in range(batch_size):\n",
        "    optimizer.zero_grad()\n",
        "    X = train_X[batch]  #(600, 28, 28)\n",
        "    X = X.unsqueeze(1)\n",
        "    y_pred = model.forward(X)\n",
        "    cost = loss(y_pred, train_Y[batch])\n",
        "    cost.backward()\n",
        "    optimizer.step()\n",
        "    ave_cost += cost\n",
        "  print(ave_cost / batch_size)\n",
        "\n",
        "\n"
      ],
      "execution_count": 3,
      "outputs": [
        {
          "output_type": "stream",
          "text": [
            "epoch :  1\n",
            "tensor(0.4372, grad_fn=<DivBackward0>)\n",
            "epoch :  2\n",
            "tensor(0.0886, grad_fn=<DivBackward0>)\n",
            "epoch :  3\n",
            "tensor(0.0597, grad_fn=<DivBackward0>)\n",
            "epoch :  4\n",
            "tensor(0.0459, grad_fn=<DivBackward0>)\n",
            "epoch :  5\n",
            "tensor(0.0373, grad_fn=<DivBackward0>)\n",
            "epoch :  6\n",
            "tensor(0.0312, grad_fn=<DivBackward0>)\n",
            "epoch :  7\n",
            "tensor(0.0265, grad_fn=<DivBackward0>)\n",
            "epoch :  8\n",
            "tensor(0.0227, grad_fn=<DivBackward0>)\n",
            "epoch :  9\n",
            "tensor(0.0194, grad_fn=<DivBackward0>)\n",
            "epoch :  10\n",
            "tensor(0.0166, grad_fn=<DivBackward0>)\n"
          ],
          "name": "stdout"
        }
      ]
    },
    {
      "cell_type": "code",
      "metadata": {
        "id": "m8CBb289lVoK",
        "colab_type": "code",
        "colab": {
          "base_uri": "https://localhost:8080/",
          "height": 53
        },
        "outputId": "5d50478b-f9bc-4716-c08f-363dd48c309a"
      },
      "source": [
        "val_pred = model.forward(val_X)\n",
        "val_pred = val_pred.argmax(axis=1)\n",
        "\n",
        "T, F = 0, 0\n",
        "for i in range(10000):\n",
        "  if val_pred[i] == val_Y[i]:\n",
        "    T += 1\n",
        "  else:\n",
        "    F += 1\n",
        "print(T, F)\n",
        "print(T / (T+F))\n"
      ],
      "execution_count": 4,
      "outputs": [
        {
          "output_type": "stream",
          "text": [
            "9891 109\n",
            "0.9891\n"
          ],
          "name": "stdout"
        }
      ]
    },
    {
      "cell_type": "code",
      "metadata": {
        "id": "A5vMvRpP1VFQ",
        "colab_type": "code",
        "colab": {}
      },
      "source": [
        ""
      ],
      "execution_count": null,
      "outputs": []
    }
  ]
}